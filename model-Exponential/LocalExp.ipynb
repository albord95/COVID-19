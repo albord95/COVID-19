{
 "cells": [
  {
   "cell_type": "markdown",
   "metadata": {},
   "source": [
    "# Imports"
   ]
  },
  {
   "cell_type": "code",
   "execution_count": 130,
   "metadata": {},
   "outputs": [],
   "source": [
    "import numpy as np\n",
    "import pandas as pd\n",
    "import json\n",
    "from scipy.optimize import curve_fit\n",
    "import matplotlib.pyplot as plt\n",
    "import uncertainties.unumpy as unp\n",
    "import uncertainties as unc\n",
    "from datetime import date\n",
    "import collections"
   ]
  },
  {
   "cell_type": "markdown",
   "metadata": {},
   "source": [
    "# Functions"
   ]
  },
  {
   "cell_type": "code",
   "execution_count": 131,
   "metadata": {},
   "outputs": [],
   "source": [
    "def exponential(x, a, b):\n",
    "    return a * np.exp(b * x)\n",
    "\n",
    "def exponential2(x, a, b, c):\n",
    "    return a * np.exp(b*x + c*(x**2))\n",
    "\n",
    "def weighted_exp_fit(y, cut=8, weights='linear', order=1):\n",
    "    days = len(y)\n",
    "    x = np.arange(days)[y > 0]\n",
    "    y = y[y > 0]\n",
    "    weights = np.ones(cut) #uniform weights\n",
    "    if weights == 'linear':\n",
    "        weights = np.arange(1, cut+1)\n",
    "    if cut < len(y):\n",
    "        x = x[len(y)-cut:]\n",
    "        y = y[len(y)-cut:]\n",
    "    else:\n",
    "        weights = weights[len(weights)-len(y):]\n",
    "    sigma = np.sqrt(y) / weights #linear weights become quadratic as in the least squares method a sigma^2 appears\n",
    "    if len(y) < 2:\n",
    "        return [0, 0], [[0, 0], [0, 0]]\n",
    "    if order == 1:\n",
    "        popt, pcov = curve_fit(exponential, x, y, sigma=sigma)\n",
    "    elif order == 2 and len(y) == 2:\n",
    "        popt = np.zeros(3)\n",
    "        pcov = np.zeros((3,3))\n",
    "        popt[:2], pcov[:2, :2] = curve_fit(exponential, x, y, sigma=sigma)\n",
    "    elif order == 2:\n",
    "        p0 = [1, 1, -0.001]\n",
    "        popt, pcov = curve_fit(exponential2, x, y, sigma=sigma, maxfev=6000, p0=p0)\n",
    "    return popt, pcov\n",
    "\n",
    "def initialize_dataframe(categories, default_columns=['data', 'denominazione_regione']):\n",
    "    columns = default_columns\n",
    "    for c in range(len(categories)):\n",
    "        columns.append(categories[c])\n",
    "        columns.append('std_' + categories[c])\n",
    "    return pd.DataFrame(columns=columns)\n",
    "\n",
    "def date_list(today, days=15):\n",
    "    return pd.date_range(start=today, periods=days, freq='1D')[1:]"
   ]
  },
  {
   "cell_type": "code",
   "execution_count": 132,
   "metadata": {},
   "outputs": [],
   "source": [
    "oggi = str(date.today())"
   ]
  },
  {
   "cell_type": "markdown",
   "metadata": {},
   "source": [
    "# Data"
   ]
  },
  {
   "cell_type": "code",
   "execution_count": 133,
   "metadata": {},
   "outputs": [],
   "source": [
    "df_regions = pd.read_json('../pcm-dpc-COVID-19/dati-json/dpc-covid19-ita-regioni.json')\n",
    "df_pop = pd.read_csv('dati_regioni.csv')"
   ]
  },
  {
   "cell_type": "code",
   "execution_count": 134,
   "metadata": {},
   "outputs": [
    {
     "data": {
      "text/html": [
       "<div>\n",
       "<style scoped>\n",
       "    .dataframe tbody tr th:only-of-type {\n",
       "        vertical-align: middle;\n",
       "    }\n",
       "\n",
       "    .dataframe tbody tr th {\n",
       "        vertical-align: top;\n",
       "    }\n",
       "\n",
       "    .dataframe thead th {\n",
       "        text-align: right;\n",
       "    }\n",
       "</style>\n",
       "<table border=\"1\" class=\"dataframe\">\n",
       "  <thead>\n",
       "    <tr style=\"text-align: right;\">\n",
       "      <th></th>\n",
       "      <th>codice_regione</th>\n",
       "      <th>data</th>\n",
       "      <th>deceduti</th>\n",
       "      <th>denominazione_regione</th>\n",
       "      <th>dimessi_guariti</th>\n",
       "      <th>isolamento_domiciliare</th>\n",
       "      <th>lat</th>\n",
       "      <th>long</th>\n",
       "      <th>nuovi_attualmente_positivi</th>\n",
       "      <th>ricoverati_con_sintomi</th>\n",
       "      <th>stato</th>\n",
       "      <th>tamponi</th>\n",
       "      <th>terapia_intensiva</th>\n",
       "      <th>totale_attualmente_positivi</th>\n",
       "      <th>totale_casi</th>\n",
       "      <th>totale_ospedalizzati</th>\n",
       "    </tr>\n",
       "  </thead>\n",
       "  <tbody>\n",
       "    <tr>\n",
       "      <th>625</th>\n",
       "      <td>9</td>\n",
       "      <td>2020-03-24 17:00:00</td>\n",
       "      <td>129</td>\n",
       "      <td>Toscana</td>\n",
       "      <td>51</td>\n",
       "      <td>1357</td>\n",
       "      <td>43.769231</td>\n",
       "      <td>11.255889</td>\n",
       "      <td>218</td>\n",
       "      <td>918</td>\n",
       "      <td>ITA</td>\n",
       "      <td>15701</td>\n",
       "      <td>244</td>\n",
       "      <td>2519</td>\n",
       "      <td>2699</td>\n",
       "      <td>1162</td>\n",
       "    </tr>\n",
       "    <tr>\n",
       "      <th>626</th>\n",
       "      <td>4</td>\n",
       "      <td>2020-03-24 17:00:00</td>\n",
       "      <td>56</td>\n",
       "      <td>P.A. Trento</td>\n",
       "      <td>79</td>\n",
       "      <td>618</td>\n",
       "      <td>46.068935</td>\n",
       "      <td>11.121231</td>\n",
       "      <td>61</td>\n",
       "      <td>308</td>\n",
       "      <td>ITA</td>\n",
       "      <td>3712</td>\n",
       "      <td>49</td>\n",
       "      <td>975</td>\n",
       "      <td>1110</td>\n",
       "      <td>357</td>\n",
       "    </tr>\n",
       "    <tr>\n",
       "      <th>627</th>\n",
       "      <td>10</td>\n",
       "      <td>2020-03-24 17:00:00</td>\n",
       "      <td>19</td>\n",
       "      <td>Umbria</td>\n",
       "      <td>5</td>\n",
       "      <td>476</td>\n",
       "      <td>43.106758</td>\n",
       "      <td>12.388247</td>\n",
       "      <td>68</td>\n",
       "      <td>105</td>\n",
       "      <td>ITA</td>\n",
       "      <td>4108</td>\n",
       "      <td>43</td>\n",
       "      <td>624</td>\n",
       "      <td>648</td>\n",
       "      <td>148</td>\n",
       "    </tr>\n",
       "    <tr>\n",
       "      <th>628</th>\n",
       "      <td>2</td>\n",
       "      <td>2020-03-24 17:00:00</td>\n",
       "      <td>19</td>\n",
       "      <td>Valle d'Aosta</td>\n",
       "      <td>2</td>\n",
       "      <td>288</td>\n",
       "      <td>45.737503</td>\n",
       "      <td>7.320149</td>\n",
       "      <td>0</td>\n",
       "      <td>71</td>\n",
       "      <td>ITA</td>\n",
       "      <td>1180</td>\n",
       "      <td>20</td>\n",
       "      <td>379</td>\n",
       "      <td>400</td>\n",
       "      <td>91</td>\n",
       "    </tr>\n",
       "    <tr>\n",
       "      <th>629</th>\n",
       "      <td>5</td>\n",
       "      <td>2020-03-24 17:00:00</td>\n",
       "      <td>216</td>\n",
       "      <td>Veneto</td>\n",
       "      <td>381</td>\n",
       "      <td>3729</td>\n",
       "      <td>45.434905</td>\n",
       "      <td>12.338452</td>\n",
       "      <td>365</td>\n",
       "      <td>1318</td>\n",
       "      <td>ITA</td>\n",
       "      <td>66178</td>\n",
       "      <td>304</td>\n",
       "      <td>5351</td>\n",
       "      <td>5948</td>\n",
       "      <td>1622</td>\n",
       "    </tr>\n",
       "  </tbody>\n",
       "</table>\n",
       "</div>"
      ],
      "text/plain": [
       "     codice_regione                 data  deceduti denominazione_regione  \\\n",
       "625               9  2020-03-24 17:00:00       129               Toscana   \n",
       "626               4  2020-03-24 17:00:00        56           P.A. Trento   \n",
       "627              10  2020-03-24 17:00:00        19                Umbria   \n",
       "628               2  2020-03-24 17:00:00        19         Valle d'Aosta   \n",
       "629               5  2020-03-24 17:00:00       216                Veneto   \n",
       "\n",
       "     dimessi_guariti  isolamento_domiciliare        lat       long  \\\n",
       "625               51                    1357  43.769231  11.255889   \n",
       "626               79                     618  46.068935  11.121231   \n",
       "627                5                     476  43.106758  12.388247   \n",
       "628                2                     288  45.737503   7.320149   \n",
       "629              381                    3729  45.434905  12.338452   \n",
       "\n",
       "     nuovi_attualmente_positivi  ricoverati_con_sintomi stato  tamponi  \\\n",
       "625                         218                     918   ITA    15701   \n",
       "626                          61                     308   ITA     3712   \n",
       "627                          68                     105   ITA     4108   \n",
       "628                           0                      71   ITA     1180   \n",
       "629                         365                    1318   ITA    66178   \n",
       "\n",
       "     terapia_intensiva  totale_attualmente_positivi  totale_casi  \\\n",
       "625                244                         2519         2699   \n",
       "626                 49                          975         1110   \n",
       "627                 43                          624          648   \n",
       "628                 20                          379          400   \n",
       "629                304                         5351         5948   \n",
       "\n",
       "     totale_ospedalizzati  \n",
       "625                  1162  \n",
       "626                   357  \n",
       "627                   148  \n",
       "628                    91  \n",
       "629                  1622  "
      ]
     },
     "execution_count": 134,
     "metadata": {},
     "output_type": "execute_result"
    }
   ],
   "source": [
    "df_regions.tail()"
   ]
  },
  {
   "cell_type": "markdown",
   "metadata": {},
   "source": [
    "# Local exponential fit — Italian regions"
   ]
  },
  {
   "cell_type": "code",
   "execution_count": 135,
   "metadata": {},
   "outputs": [],
   "source": [
    "#creating a new minimalist dataframe\n",
    "df_temp = df_regions[df_regions.data == max(df_regions.data.values)]\n",
    "df_temp = df_temp[df_temp.denominazione_regione != '']\n",
    "df_forecast = df_temp[['data', 'codice_regione', 'denominazione_regione']].copy()\n",
    "df_forecast['casi_domani'] = 0\n",
    "df_forecast['std_casi_domani'] = 0\n",
    "df_forecast['morti_domani'] = 0\n",
    "df_forecast['std_morti_domani'] = 0\n",
    "df_forecast['casi_dopodomani'] = 0\n",
    "df_forecast['std_casi_dopodomani'] = 0\n",
    "df_forecast['morti_dopodomani'] = 0\n",
    "df_forecast['std_morti_dopodomani'] = 0"
   ]
  },
  {
   "cell_type": "code",
   "execution_count": 136,
   "metadata": {},
   "outputs": [
    {
     "data": {
      "text/html": [
       "<div>\n",
       "<style scoped>\n",
       "    .dataframe tbody tr th:only-of-type {\n",
       "        vertical-align: middle;\n",
       "    }\n",
       "\n",
       "    .dataframe tbody tr th {\n",
       "        vertical-align: top;\n",
       "    }\n",
       "\n",
       "    .dataframe thead th {\n",
       "        text-align: right;\n",
       "    }\n",
       "</style>\n",
       "<table border=\"1\" class=\"dataframe\">\n",
       "  <thead>\n",
       "    <tr style=\"text-align: right;\">\n",
       "      <th></th>\n",
       "      <th>data</th>\n",
       "      <th>codice_regione</th>\n",
       "      <th>denominazione_regione</th>\n",
       "      <th>casi_domani</th>\n",
       "      <th>std_casi_domani</th>\n",
       "      <th>morti_domani</th>\n",
       "      <th>std_morti_domani</th>\n",
       "      <th>casi_dopodomani</th>\n",
       "      <th>std_casi_dopodomani</th>\n",
       "      <th>morti_dopodomani</th>\n",
       "      <th>std_morti_dopodomani</th>\n",
       "    </tr>\n",
       "  </thead>\n",
       "  <tbody>\n",
       "    <tr>\n",
       "      <th>609</th>\n",
       "      <td>2020-03-24 17:00:00</td>\n",
       "      <td>13</td>\n",
       "      <td>Abruzzo</td>\n",
       "      <td>0</td>\n",
       "      <td>0</td>\n",
       "      <td>0</td>\n",
       "      <td>0</td>\n",
       "      <td>0</td>\n",
       "      <td>0</td>\n",
       "      <td>0</td>\n",
       "      <td>0</td>\n",
       "    </tr>\n",
       "  </tbody>\n",
       "</table>\n",
       "</div>"
      ],
      "text/plain": [
       "                    data  codice_regione denominazione_regione  casi_domani  \\\n",
       "609  2020-03-24 17:00:00              13               Abruzzo            0   \n",
       "\n",
       "     std_casi_domani  morti_domani  std_morti_domani  casi_dopodomani  \\\n",
       "609                0             0                 0                0   \n",
       "\n",
       "     std_casi_dopodomani  morti_dopodomani  std_morti_dopodomani  \n",
       "609                    0                 0                     0  "
      ]
     },
     "execution_count": 136,
     "metadata": {},
     "output_type": "execute_result"
    }
   ],
   "source": [
    "df_forecast.head(1)"
   ]
  },
  {
   "cell_type": "code",
   "execution_count": 137,
   "metadata": {},
   "outputs": [
    {
     "name": "stderr",
     "output_type": "stream",
     "text": [
      "C:\\Anaconda3\\lib\\site-packages\\ipykernel_launcher.py:12: FutureWarning: elementwise comparison failed; returning scalar instead, but in the future will perform elementwise comparison\n",
      "  if sys.path[0] == '':\n",
      "C:\\Anaconda3\\lib\\site-packages\\scipy\\optimize\\minpack.py:794: OptimizeWarning: Covariance of the parameters could not be estimated\n",
      "  category=OptimizeWarning)\n",
      "C:\\Anaconda3\\lib\\site-packages\\uncertainties\\core.py:178: RuntimeWarning: invalid value encountered in true_divide\n",
      "  covariance_mat/norm_vector/norm_vector[:,numpy.newaxis],\n",
      "C:\\Anaconda3\\lib\\site-packages\\uncertainties\\core.py:227: RuntimeWarning: invalid value encountered in less\n",
      "  variances[variances < 0] = 0.\n"
     ]
    },
    {
     "data": {
      "image/png": "[encoded data removed]",
      "text/plain": [
       "<Figure size 720x576 with 1 Axes>"
      ]
     },
     "metadata": {
      "needs_background": "light"
     },
     "output_type": "display_data"
    }
   ],
   "source": [
    "fig, ax = plt.subplots(figsize=(10,8))\n",
    "\n",
    "denominazioni = np.unique(df_regions.denominazione_regione.values)\n",
    "colors = ['tab:blue', 'tab:orange', 'tab:green', 'tab:red', 'tab:purple',\n",
    "          'tab:brown', 'tab:pink', 'tab:gray', 'black', 'tab:olive',\n",
    "          'tab:cyan', 'b', 'g', 'm', 'chocolate',\n",
    "          'lime', 'salmon', 'teal', 'darkred', 'indigo',\n",
    "          'crimson'] #21 colori per VENTI regioni (mannaggia al Trentino - Alto Adige)\n",
    "\n",
    "labels = ['casi', 'morti']\n",
    "for i, den in enumerate(denominazioni):\n",
    "    dfr = df_regions[df_regions.denominazione_regione == den]\n",
    "    for j, y in enumerate((dfr.totale_casi.values, dfr.deceduti.values)):\n",
    "        days = len(y)\n",
    "        x = np.arange(days)\n",
    "        cut = 4\n",
    "        popt, pcov = weighted_exp_fit(y, cut=cut, weights='linear')\n",
    "        a, b = unc.correlated_values(popt, pcov)\n",
    "        slope = unc.nominal_value(b)\n",
    "        std = unc.std_dev(b)\n",
    "        xx = np.concatenate((x, [x[-1] + 1, x[-1] + 2])) #extrapolation till the day after tomorrow\n",
    "        yy = a * unp.exp(b * xx[-3:])\n",
    "        domani = yy[-2] - yy[-3]\n",
    "        df_forecast.loc[df_forecast.denominazione_regione == den, labels[j]+'_domani'] = np.round(domani.nominal_value)\n",
    "        df_forecast.loc[df_forecast.denominazione_regione == den, 'std_'+labels[j]+'_domani'] = np.round(domani.std_dev)\n",
    "        dopodomani = yy[-1] - yy[-2]\n",
    "        df_forecast.loc[df_forecast.denominazione_regione == den, labels[j]+'_dopodomani'] = np.round(dopodomani.nominal_value)\n",
    "        df_forecast.loc[df_forecast.denominazione_regione == den, 'std_'+labels[j]+'_dopodomani'] = np.round(dopodomani.std_dev)\n",
    "        \n",
    "        if j == 0: #plot\n",
    "            label = '{}: $+${}% per day'.format(den, int(round(slope, 2)*100))\n",
    "            ax.plot(xx[days-cut:], exponential(xx[days-cut:], *popt), color=colors[i])\n",
    "            ax.plot(x[y>0], y[y>0], '.', color=colors[i], label=label)\n",
    "    \n",
    "ax.set_yscale('log')\n",
    "ax.set_ylabel('confirmed cases', fontsize='large')\n",
    "ax.set_xlabel('days', fontsize='large')\n",
    "ax.set_xlim(-15, days+2)\n",
    "ax.legend(loc=0)\n",
    "\n",
    "fig.savefig('plot/{}-Alberto-LocalExp-regions.png'.format(oggi), dpi = 300)"
   ]
  },
  {
   "cell_type": "code",
   "execution_count": 138,
   "metadata": {},
   "outputs": [],
   "source": [
    "data_oggi = max(df_forecast.data)[:10]\n",
    "df_forecast.to_csv('LocalExp_forecast_regioni_{}.csv'.format(data_oggi))"
   ]
  },
  {
   "cell_type": "markdown",
   "metadata": {},
   "source": [
    "## Fit of several categories"
   ]
  },
  {
   "cell_type": "code",
   "execution_count": 139,
   "metadata": {},
   "outputs": [
    {
     "name": "stdout",
     "output_type": "stream",
     "text": [
      "Abruzzo\n",
      "Basilicata\n",
      "Calabria\n",
      "Campania\n",
      "Emilia Romagna\n",
      "Friuli Venezia Giulia\n",
      "Lazio\n",
      "Liguria\n",
      "Lombardia\n",
      "Marche\n",
      "Molise\n",
      "P.A. Bolzano"
     ]
    },
    {
     "name": "stderr",
     "output_type": "stream",
     "text": [
      "C:\\Anaconda3\\lib\\site-packages\\ipykernel_launcher.py:12: FutureWarning: elementwise comparison failed; returning scalar instead, but in the future will perform elementwise comparison\n",
      "  if sys.path[0] == '':\n"
     ]
    },
    {
     "name": "stdout",
     "output_type": "stream",
     "text": [
      "\n",
      "P.A. Trento\n",
      "Piemonte\n",
      "Puglia\n",
      "Sardegna\n",
      "Sicilia\n",
      "Toscana\n",
      "Umbria\n",
      "Valle d'Aosta\n",
      "Veneto\n"
     ]
    }
   ],
   "source": [
    "categories = ['totale_casi', 'terapia_intensiva', 'deceduti']\n",
    "\n",
    "lastdate = df_regions['data'].max()\n",
    "futuredates = pd.date_range(start=lastdate, periods=15, freq='1D')[1:]\n",
    "\n",
    "for order in [1]:\n",
    "    output = collections.defaultdict(list)\n",
    "    \n",
    "    for i, den in enumerate(denominazioni):\n",
    "        dfr = df_regions[df_regions.denominazione_regione == den]\n",
    "        output['denominazione_regione'] += [den] * len(futuredates)\n",
    "        output['data'] += list(futuredates)\n",
    "        print(den)\n",
    "        for j, category in enumerate(categories):\n",
    "            y = dfr[category].values\n",
    "            days = len(y)\n",
    "            x = np.arange(days)\n",
    "            cut = 6\n",
    "            popt, pcov = weighted_exp_fit(y, cut=cut, weights='linear', order=order)\n",
    "            xx = np.arange(days, days + len(futuredates))\n",
    "            if order == 1:\n",
    "                a, b = unc.correlated_values(popt, pcov)\n",
    "                yy = a * unp.exp(b * xx)\n",
    "            elif order == 2:\n",
    "                a, b, c = unc.correlated_values(popt, pcov)\n",
    "                yy = a * unp.exp(b * xx + c * xx**2)\n",
    "            output[category] += list(unp.nominal_values(yy))\n",
    "            output['std_' + category] += list(unp.std_devs(yy))\n",
    "        \n",
    "    df_predictions = pd.DataFrame(output)\n",
    "    directory = f'../predictions/{lastdate[:10]}/dati-regioni'\n",
    "    path = f'{directory}/model-LocalExp-order{str(order)}.csv'\n",
    "    df_predictions.to_csv(path, index=False)"
   ]
  },
  {
   "cell_type": "code",
   "execution_count": null,
   "metadata": {},
   "outputs": [],
   "source": []
  },
  {
   "cell_type": "code",
   "execution_count": null,
   "metadata": {},
   "outputs": [],
   "source": []
  }
 ],
 "metadata": {
  "kernelspec": {
   "display_name": "Python 3",
   "language": "python",
   "name": "python3"
  },
  "language_info": {
   "codemirror_mode": {
    "name": "ipython",
    "version": 3
   },
   "file_extension": ".py",
   "mimetype": "text/x-python",
   "name": "python",
   "nbconvert_exporter": "python",
   "pygments_lexer": "ipython3",
   "version": "3.7.1"
  },
  "toc": {
   "base_numbering": 1,
   "nav_menu": {},
   "number_sections": true,
   "sideBar": true,
   "skip_h1_title": false,
   "title_cell": "Table of Contents",
   "title_sidebar": "Contents",
   "toc_cell": false,
   "toc_position": {},
   "toc_section_display": true,
   "toc_window_display": false
  }
 },
 "nbformat": 4,
 "nbformat_minor": 2
}
