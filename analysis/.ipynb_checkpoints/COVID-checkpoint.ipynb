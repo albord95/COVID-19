{
 "cells": [
  {
   "cell_type": "code",
   "execution_count": 9,
   "metadata": {},
   "outputs": [],
   "source": [
    "import numpy as np\n",
    "import pandas as pd\n",
    "import json\n",
    "from scipy import optimize\n",
    "import matplotlib.pyplot as plt"
   ]
  },
  {
   "cell_type": "code",
   "execution_count": 10,
   "metadata": {},
   "outputs": [],
   "source": [
    "import uncertainties.unumpy as unp\n",
    "import uncertainties as unc"
   ]
  },
  {
   "cell_type": "markdown",
   "metadata": {},
   "source": [
    "### Functions"
   ]
  },
  {
   "cell_type": "code",
   "execution_count": 11,
   "metadata": {},
   "outputs": [],
   "source": [
    "def powerlaw(x, amplitude, exponent):\n",
    "    return amplitude * x**(exponent)"
   ]
  },
  {
   "cell_type": "code",
   "execution_count": 12,
   "metadata": {},
   "outputs": [],
   "source": [
    "def exponential(x, amplitude, tau):\n",
    "    return amplitude * np.exp(x/tau)"
   ]
  },
  {
   "cell_type": "markdown",
   "metadata": {},
   "source": [
    "### Import"
   ]
  },
  {
   "cell_type": "code",
   "execution_count": 16,
   "metadata": {},
   "outputs": [],
   "source": [
    "dfr = pd.read_json('../dati-json/dpc-covid19-ita-regioni.json')\n",
    "dfp = pd.read_json('../dati-json/dpc-covid19-ita-province.json')\n",
    "df = pd.read_json('../dati-json/dpc-covid19-ita-andamento-nazionale.json')"
   ]
  },
  {
   "cell_type": "code",
   "execution_count": 17,
   "metadata": {},
   "outputs": [
    {
     "data": {
      "text/html": [
       "<div>\n",
       "<style scoped>\n",
       "    .dataframe tbody tr th:only-of-type {\n",
       "        vertical-align: middle;\n",
       "    }\n",
       "\n",
       "    .dataframe tbody tr th {\n",
       "        vertical-align: top;\n",
       "    }\n",
       "\n",
       "    .dataframe thead th {\n",
       "        text-align: right;\n",
       "    }\n",
       "</style>\n",
       "<table border=\"1\" class=\"dataframe\">\n",
       "  <thead>\n",
       "    <tr style=\"text-align: right;\">\n",
       "      <th></th>\n",
       "      <th>data</th>\n",
       "      <th>stato</th>\n",
       "      <th>ricoverati_con_sintomi</th>\n",
       "      <th>terapia_intensiva</th>\n",
       "      <th>totale_ospedalizzati</th>\n",
       "      <th>isolamento_domiciliare</th>\n",
       "      <th>totale_attualmente_positivi</th>\n",
       "      <th>nuovi_attualmente_positivi</th>\n",
       "      <th>dimessi_guariti</th>\n",
       "      <th>deceduti</th>\n",
       "      <th>totale_casi</th>\n",
       "      <th>tamponi</th>\n",
       "    </tr>\n",
       "  </thead>\n",
       "  <tbody>\n",
       "    <tr>\n",
       "      <th>10</th>\n",
       "      <td>2020-03-05 18:00:00</td>\n",
       "      <td>ITA</td>\n",
       "      <td>1790</td>\n",
       "      <td>351</td>\n",
       "      <td>2141</td>\n",
       "      <td>1155</td>\n",
       "      <td>3296</td>\n",
       "      <td>590</td>\n",
       "      <td>414</td>\n",
       "      <td>148</td>\n",
       "      <td>3858</td>\n",
       "      <td>32362</td>\n",
       "    </tr>\n",
       "    <tr>\n",
       "      <th>11</th>\n",
       "      <td>2020-03-06 18:00:00</td>\n",
       "      <td>ITA</td>\n",
       "      <td>2394</td>\n",
       "      <td>462</td>\n",
       "      <td>2856</td>\n",
       "      <td>1060</td>\n",
       "      <td>3916</td>\n",
       "      <td>620</td>\n",
       "      <td>523</td>\n",
       "      <td>197</td>\n",
       "      <td>4636</td>\n",
       "      <td>36359</td>\n",
       "    </tr>\n",
       "    <tr>\n",
       "      <th>12</th>\n",
       "      <td>2020-03-07 18:00:00</td>\n",
       "      <td>ITA</td>\n",
       "      <td>2651</td>\n",
       "      <td>567</td>\n",
       "      <td>3218</td>\n",
       "      <td>1843</td>\n",
       "      <td>5061</td>\n",
       "      <td>1145</td>\n",
       "      <td>589</td>\n",
       "      <td>233</td>\n",
       "      <td>5883</td>\n",
       "      <td>42062</td>\n",
       "    </tr>\n",
       "    <tr>\n",
       "      <th>13</th>\n",
       "      <td>2020-03-08 18:00:00</td>\n",
       "      <td>ITA</td>\n",
       "      <td>3557</td>\n",
       "      <td>650</td>\n",
       "      <td>4207</td>\n",
       "      <td>2180</td>\n",
       "      <td>6387</td>\n",
       "      <td>1326</td>\n",
       "      <td>622</td>\n",
       "      <td>366</td>\n",
       "      <td>7375</td>\n",
       "      <td>49937</td>\n",
       "    </tr>\n",
       "    <tr>\n",
       "      <th>14</th>\n",
       "      <td>2020-03-09 18:00:00</td>\n",
       "      <td>ITA</td>\n",
       "      <td>4316</td>\n",
       "      <td>733</td>\n",
       "      <td>5049</td>\n",
       "      <td>2936</td>\n",
       "      <td>7985</td>\n",
       "      <td>1598</td>\n",
       "      <td>724</td>\n",
       "      <td>463</td>\n",
       "      <td>9172</td>\n",
       "      <td>53826</td>\n",
       "    </tr>\n",
       "  </tbody>\n",
       "</table>\n",
       "</div>"
      ],
      "text/plain": [
       "                   data stato  ricoverati_con_sintomi  terapia_intensiva  \\\n",
       "10  2020-03-05 18:00:00   ITA                    1790                351   \n",
       "11  2020-03-06 18:00:00   ITA                    2394                462   \n",
       "12  2020-03-07 18:00:00   ITA                    2651                567   \n",
       "13  2020-03-08 18:00:00   ITA                    3557                650   \n",
       "14  2020-03-09 18:00:00   ITA                    4316                733   \n",
       "\n",
       "    totale_ospedalizzati  isolamento_domiciliare  totale_attualmente_positivi  \\\n",
       "10                  2141                    1155                         3296   \n",
       "11                  2856                    1060                         3916   \n",
       "12                  3218                    1843                         5061   \n",
       "13                  4207                    2180                         6387   \n",
       "14                  5049                    2936                         7985   \n",
       "\n",
       "    nuovi_attualmente_positivi  dimessi_guariti  deceduti  totale_casi  \\\n",
       "10                         590              414       148         3858   \n",
       "11                         620              523       197         4636   \n",
       "12                        1145              589       233         5883   \n",
       "13                        1326              622       366         7375   \n",
       "14                        1598              724       463         9172   \n",
       "\n",
       "    tamponi  \n",
       "10    32362  \n",
       "11    36359  \n",
       "12    42062  \n",
       "13    49937  \n",
       "14    53826  "
      ]
     },
     "execution_count": 17,
     "metadata": {},
     "output_type": "execute_result"
    }
   ],
   "source": [
    "df.tail()"
   ]
  },
  {
   "cell_type": "code",
   "execution_count": 21,
   "metadata": {},
   "outputs": [
    {
     "data": {
      "image/png": "[encoded data removed]",
      "text/plain": [
       "<Figure size 432x288 with 1 Axes>"
      ]
     },
     "metadata": {
      "needs_background": "light"
     },
     "output_type": "display_data"
    }
   ],
   "source": [
    "fig, ax = plt.subplots()\n",
    "\n",
    "x = np.arange(len(df))\n",
    "px = np.arange(len(df)*2)\n",
    "dd = 6\n",
    "\n",
    "df.reset_index().plot.scatter(x='index',y='totale_casi', ax = ax, logy = True, title = 'Totale casi - 95% CL', ylim=[10**2,1.5*10**4])\n",
    "\n",
    "popt, pcov = optimize.curve_fit(exponential, x[dd:], df.totale_casi[dd:])\n",
    "y0,tau = unc.correlated_values(popt, pcov)\n",
    "px = px[:16]\n",
    "py = y0*unp.exp(px/tau)\n",
    "nom = unp.nominal_values(py)\n",
    "std = unp.std_devs(py)\n",
    "\n",
    "ax.fill_between(px, nom + 1.96 * std, nom - 1.96 * std, alpha = 0.3, color = 'blue')\n",
    "\n",
    "label = r'$T_2=$'+str(round(popt[1]/np.log(2),1))+ r' d'\n",
    "ax.plot(px[:16],exponential(px[:16], *popt), ls = '--', label = label)\n",
    "\n",
    "#ax.scatter(14, exponential(14, *popt), color = 'red')\n",
    "\n",
    "\n",
    "ax.set_xlabel('giorno')\n",
    "ax.legend()\n",
    "fig.savefig('plot/totale_casi.png', dpi = 300)"
   ]
  },
  {
   "cell_type": "code",
   "execution_count": 18,
   "metadata": {},
   "outputs": [
    {
     "name": "stdout",
     "output_type": "stream",
     "text": [
      "14 9133.992648837559\n"
     ]
    }
   ],
   "source": [
    "print (14,exponential(14, *popt))"
   ]
  },
  {
   "cell_type": "code",
   "execution_count": null,
   "metadata": {},
   "outputs": [],
   "source": []
  }
 ],
 "metadata": {
  "kernelspec": {
   "display_name": "Python 3",
   "language": "python",
   "name": "python3"
  },
  "language_info": {
   "codemirror_mode": {
    "name": "ipython",
    "version": 3
   },
   "file_extension": ".py",
   "mimetype": "text/x-python",
   "name": "python",
   "nbconvert_exporter": "python",
   "pygments_lexer": "ipython3",
   "version": "3.7.0"
  }
 },
 "nbformat": 4,
 "nbformat_minor": 4
}
