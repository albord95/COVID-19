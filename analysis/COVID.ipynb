{
 "cells": [
  {
   "cell_type": "code",
   "execution_count": 1,
   "metadata": {},
   "outputs": [],
   "source": [
    "import numpy as np\n",
    "import pandas as pd\n",
    "import json\n",
    "from scipy import optimize\n",
    "import matplotlib.pyplot as plt\n",
    "from datetime import datetime, timedelta"
   ]
  },
  {
   "cell_type": "code",
   "execution_count": 2,
   "metadata": {},
   "outputs": [],
   "source": [
    "import uncertainties.unumpy as unp\n",
    "import uncertainties as unc"
   ]
  },
  {
   "cell_type": "markdown",
   "metadata": {},
   "source": [
    "### Functions"
   ]
  },
  {
   "cell_type": "code",
   "execution_count": 3,
   "metadata": {},
   "outputs": [],
   "source": [
    "def powerlaw(x, amplitude, exponent):\n",
    "    return amplitude * x**(exponent)"
   ]
  },
  {
   "cell_type": "code",
   "execution_count": 4,
   "metadata": {},
   "outputs": [],
   "source": [
    "def exponential(x, amplitude, tau):\n",
    "    return amplitude * np.exp(x/tau)"
   ]
  },
  {
   "cell_type": "code",
   "execution_count": 5,
   "metadata": {},
   "outputs": [],
   "source": [
    "def gauss(x, amplitude, mean, sigma):\n",
    "    return amplitude*np.exp(-(x-mean)**2/(2*sigma**2))"
   ]
  },
  {
   "cell_type": "markdown",
   "metadata": {},
   "source": [
    "### Import"
   ]
  },
  {
   "cell_type": "code",
   "execution_count": 6,
   "metadata": {},
   "outputs": [],
   "source": [
    "dfr = pd.read_json('../dati-json/dpc-covid19-ita-regioni.json')\n",
    "dfp = pd.read_json('../dati-json/dpc-covid19-ita-province.json')\n",
    "df = pd.read_json('../dati-json/dpc-covid19-ita-andamento-nazionale.json')"
   ]
  },
  {
   "cell_type": "code",
   "execution_count": 7,
   "metadata": {},
   "outputs": [
    {
     "data": {
      "text/html": [
       "<div>\n",
       "<style scoped>\n",
       "    .dataframe tbody tr th:only-of-type {\n",
       "        vertical-align: middle;\n",
       "    }\n",
       "\n",
       "    .dataframe tbody tr th {\n",
       "        vertical-align: top;\n",
       "    }\n",
       "\n",
       "    .dataframe thead th {\n",
       "        text-align: right;\n",
       "    }\n",
       "</style>\n",
       "<table border=\"1\" class=\"dataframe\">\n",
       "  <thead>\n",
       "    <tr style=\"text-align: right;\">\n",
       "      <th></th>\n",
       "      <th>codice_provincia</th>\n",
       "      <th>codice_regione</th>\n",
       "      <th>data</th>\n",
       "      <th>denominazione_provincia</th>\n",
       "      <th>denominazione_regione</th>\n",
       "      <th>lat</th>\n",
       "      <th>long</th>\n",
       "      <th>sigla_provincia</th>\n",
       "      <th>stato</th>\n",
       "      <th>totale_casi</th>\n",
       "    </tr>\n",
       "  </thead>\n",
       "  <tbody>\n",
       "    <tr>\n",
       "      <th>1584</th>\n",
       "      <td>16</td>\n",
       "      <td>3</td>\n",
       "      <td>2020-03-07 18:00:00</td>\n",
       "      <td>Bergamo</td>\n",
       "      <td>Lombardia</td>\n",
       "      <td>45.694414</td>\n",
       "      <td>9.668425</td>\n",
       "      <td>BG</td>\n",
       "      <td>ITA</td>\n",
       "      <td>761.0</td>\n",
       "    </tr>\n",
       "    <tr>\n",
       "      <th>1712</th>\n",
       "      <td>16</td>\n",
       "      <td>3</td>\n",
       "      <td>2020-03-08 18:00:00</td>\n",
       "      <td>Bergamo</td>\n",
       "      <td>Lombardia</td>\n",
       "      <td>45.694414</td>\n",
       "      <td>9.668425</td>\n",
       "      <td>BG</td>\n",
       "      <td>ITA</td>\n",
       "      <td>997.0</td>\n",
       "    </tr>\n",
       "    <tr>\n",
       "      <th>1840</th>\n",
       "      <td>16</td>\n",
       "      <td>3</td>\n",
       "      <td>2020-03-09 18:00:00</td>\n",
       "      <td>Bergamo</td>\n",
       "      <td>Lombardia</td>\n",
       "      <td>45.694414</td>\n",
       "      <td>9.668425</td>\n",
       "      <td>BG</td>\n",
       "      <td>ITA</td>\n",
       "      <td>1245.0</td>\n",
       "    </tr>\n",
       "    <tr>\n",
       "      <th>1968</th>\n",
       "      <td>16</td>\n",
       "      <td>3</td>\n",
       "      <td>2020-03-10 18:00:00</td>\n",
       "      <td>Bergamo</td>\n",
       "      <td>Lombardia</td>\n",
       "      <td>45.694414</td>\n",
       "      <td>9.668425</td>\n",
       "      <td>BG</td>\n",
       "      <td>ITA</td>\n",
       "      <td>1472.0</td>\n",
       "    </tr>\n",
       "    <tr>\n",
       "      <th>2096</th>\n",
       "      <td>16</td>\n",
       "      <td>3</td>\n",
       "      <td>2020-03-11 17:00:00</td>\n",
       "      <td>Bergamo</td>\n",
       "      <td>Lombardia</td>\n",
       "      <td>45.694414</td>\n",
       "      <td>9.668425</td>\n",
       "      <td>BG</td>\n",
       "      <td>ITA</td>\n",
       "      <td>1815.0</td>\n",
       "    </tr>\n",
       "  </tbody>\n",
       "</table>\n",
       "</div>"
      ],
      "text/plain": [
       "      codice_provincia  codice_regione                 data  \\\n",
       "1584                16               3  2020-03-07 18:00:00   \n",
       "1712                16               3  2020-03-08 18:00:00   \n",
       "1840                16               3  2020-03-09 18:00:00   \n",
       "1968                16               3  2020-03-10 18:00:00   \n",
       "2096                16               3  2020-03-11 17:00:00   \n",
       "\n",
       "     denominazione_provincia denominazione_regione        lat      long  \\\n",
       "1584                 Bergamo             Lombardia  45.694414  9.668425   \n",
       "1712                 Bergamo             Lombardia  45.694414  9.668425   \n",
       "1840                 Bergamo             Lombardia  45.694414  9.668425   \n",
       "1968                 Bergamo             Lombardia  45.694414  9.668425   \n",
       "2096                 Bergamo             Lombardia  45.694414  9.668425   \n",
       "\n",
       "     sigla_provincia stato  totale_casi  \n",
       "1584              BG   ITA        761.0  \n",
       "1712              BG   ITA        997.0  \n",
       "1840              BG   ITA       1245.0  \n",
       "1968              BG   ITA       1472.0  \n",
       "2096              BG   ITA       1815.0  "
      ]
     },
     "execution_count": 7,
     "metadata": {},
     "output_type": "execute_result"
    }
   ],
   "source": [
    "dfp[dfp.denominazione_provincia == 'Bergamo'].tail()"
   ]
  },
  {
   "cell_type": "code",
   "execution_count": 8,
   "metadata": {},
   "outputs": [
    {
     "data": {
      "text/html": [
       "<div>\n",
       "<style scoped>\n",
       "    .dataframe tbody tr th:only-of-type {\n",
       "        vertical-align: middle;\n",
       "    }\n",
       "\n",
       "    .dataframe tbody tr th {\n",
       "        vertical-align: top;\n",
       "    }\n",
       "\n",
       "    .dataframe thead th {\n",
       "        text-align: right;\n",
       "    }\n",
       "</style>\n",
       "<table border=\"1\" class=\"dataframe\">\n",
       "  <thead>\n",
       "    <tr style=\"text-align: right;\">\n",
       "      <th></th>\n",
       "      <th>data</th>\n",
       "      <th>deceduti</th>\n",
       "      <th>dimessi_guariti</th>\n",
       "      <th>isolamento_domiciliare</th>\n",
       "      <th>nuovi_attualmente_positivi</th>\n",
       "      <th>ricoverati_con_sintomi</th>\n",
       "      <th>stato</th>\n",
       "      <th>tamponi</th>\n",
       "      <th>terapia_intensiva</th>\n",
       "      <th>totale_attualmente_positivi</th>\n",
       "      <th>totale_casi</th>\n",
       "      <th>totale_ospedalizzati</th>\n",
       "    </tr>\n",
       "  </thead>\n",
       "  <tbody>\n",
       "    <tr>\n",
       "      <th>12</th>\n",
       "      <td>2020-03-07 18:00:00</td>\n",
       "      <td>233</td>\n",
       "      <td>589</td>\n",
       "      <td>1843</td>\n",
       "      <td>1145</td>\n",
       "      <td>2651</td>\n",
       "      <td>ITA</td>\n",
       "      <td>42062</td>\n",
       "      <td>567</td>\n",
       "      <td>5061</td>\n",
       "      <td>5883</td>\n",
       "      <td>3218</td>\n",
       "    </tr>\n",
       "    <tr>\n",
       "      <th>13</th>\n",
       "      <td>2020-03-08 18:00:00</td>\n",
       "      <td>366</td>\n",
       "      <td>622</td>\n",
       "      <td>2180</td>\n",
       "      <td>1326</td>\n",
       "      <td>3557</td>\n",
       "      <td>ITA</td>\n",
       "      <td>49937</td>\n",
       "      <td>650</td>\n",
       "      <td>6387</td>\n",
       "      <td>7375</td>\n",
       "      <td>4207</td>\n",
       "    </tr>\n",
       "    <tr>\n",
       "      <th>14</th>\n",
       "      <td>2020-03-09 18:00:00</td>\n",
       "      <td>463</td>\n",
       "      <td>724</td>\n",
       "      <td>2936</td>\n",
       "      <td>1598</td>\n",
       "      <td>4316</td>\n",
       "      <td>ITA</td>\n",
       "      <td>53826</td>\n",
       "      <td>733</td>\n",
       "      <td>7985</td>\n",
       "      <td>9172</td>\n",
       "      <td>5049</td>\n",
       "    </tr>\n",
       "    <tr>\n",
       "      <th>15</th>\n",
       "      <td>2020-03-10 18:00:00</td>\n",
       "      <td>631</td>\n",
       "      <td>1004</td>\n",
       "      <td>2599</td>\n",
       "      <td>529</td>\n",
       "      <td>5038</td>\n",
       "      <td>ITA</td>\n",
       "      <td>60761</td>\n",
       "      <td>877</td>\n",
       "      <td>8514</td>\n",
       "      <td>10149</td>\n",
       "      <td>5915</td>\n",
       "    </tr>\n",
       "    <tr>\n",
       "      <th>16</th>\n",
       "      <td>2020-03-11 17:00:00</td>\n",
       "      <td>827</td>\n",
       "      <td>1045</td>\n",
       "      <td>3724</td>\n",
       "      <td>2076</td>\n",
       "      <td>5838</td>\n",
       "      <td>ITA</td>\n",
       "      <td>73154</td>\n",
       "      <td>1028</td>\n",
       "      <td>10590</td>\n",
       "      <td>12462</td>\n",
       "      <td>6866</td>\n",
       "    </tr>\n",
       "  </tbody>\n",
       "</table>\n",
       "</div>"
      ],
      "text/plain": [
       "                   data  deceduti  dimessi_guariti  isolamento_domiciliare  \\\n",
       "12  2020-03-07 18:00:00       233              589                    1843   \n",
       "13  2020-03-08 18:00:00       366              622                    2180   \n",
       "14  2020-03-09 18:00:00       463              724                    2936   \n",
       "15  2020-03-10 18:00:00       631             1004                    2599   \n",
       "16  2020-03-11 17:00:00       827             1045                    3724   \n",
       "\n",
       "    nuovi_attualmente_positivi  ricoverati_con_sintomi stato  tamponi  \\\n",
       "12                        1145                    2651   ITA    42062   \n",
       "13                        1326                    3557   ITA    49937   \n",
       "14                        1598                    4316   ITA    53826   \n",
       "15                         529                    5038   ITA    60761   \n",
       "16                        2076                    5838   ITA    73154   \n",
       "\n",
       "    terapia_intensiva  totale_attualmente_positivi  totale_casi  \\\n",
       "12                567                         5061         5883   \n",
       "13                650                         6387         7375   \n",
       "14                733                         7985         9172   \n",
       "15                877                         8514        10149   \n",
       "16               1028                        10590        12462   \n",
       "\n",
       "    totale_ospedalizzati  \n",
       "12                  3218  \n",
       "13                  4207  \n",
       "14                  5049  \n",
       "15                  5915  \n",
       "16                  6866  "
      ]
     },
     "execution_count": 8,
     "metadata": {},
     "output_type": "execute_result"
    }
   ],
   "source": [
    "df.tail()"
   ]
  },
  {
   "cell_type": "code",
   "execution_count": 9,
   "metadata": {},
   "outputs": [
    {
     "data": {
      "image/png": "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\n",
      "text/plain": [
       "<Figure size 432x288 with 1 Axes>"
      ]
     },
     "metadata": {
      "needs_background": "light"
     },
     "output_type": "display_data"
    }
   ],
   "source": [
    "fig, ax = plt.subplots()\n",
    "\n",
    "x = np.arange(len(df))\n",
    "px = np.arange(len(df)*2)\n",
    "dd = 6\n",
    "\n",
    "df.reset_index().plot.scatter(x='index',y='totale_casi', ax = ax, logy = True, title = 'Totale casi - 95% CL', ylim=[10**2,2*10**4])\n",
    "\n",
    "popt, pcov = optimize.curve_fit(exponential, x[dd:], df.totale_casi[dd:])\n",
    "\n",
    "y0,tau = unc.correlated_values(popt, pcov)\n",
    "px = px[:18]\n",
    "py = y0*unp.exp(px/tau)\n",
    "nom = unp.nominal_values(py)\n",
    "std = unp.std_devs(py)\n",
    "\n",
    "ax.fill_between(px, nom + 1.96 * std, nom - 1.96 * std, alpha = 0.3, color = 'blue')\n",
    "\n",
    "label = r'$T_2=$'+str(round(popt[1]/np.log(2),1))+ r' d'\n",
    "ax.plot(px[:18],exponential(px[:18], *popt), ls = '--', label = label)\n",
    "\n",
    "ax.scatter(17, exponential(17, *popt), color = 'red')\n",
    "#ax.scatter(16,12462, color = 'red', label = 'today')\n",
    "\n",
    "ax.set_xlabel('giorno')\n",
    "ax.legend()\n",
    "fig.savefig('plot/totale_casi.png', dpi = 300)"
   ]
  },
  {
   "cell_type": "code",
   "execution_count": 10,
   "metadata": {},
   "outputs": [
    {
     "data": {
      "text/plain": [
       "15408.661514227715"
      ]
     },
     "execution_count": 10,
     "metadata": {},
     "output_type": "execute_result"
    }
   ],
   "source": [
    "exponential(17, *popt)"
   ]
  },
  {
   "cell_type": "markdown",
   "metadata": {},
   "source": [
    "### Province"
   ]
  },
  {
   "cell_type": "code",
   "execution_count": 19,
   "metadata": {},
   "outputs": [
    {
     "data": {
      "image/png": "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\n",
      "text/plain": [
       "<Figure size 432x288 with 1 Axes>"
      ]
     },
     "metadata": {
      "needs_background": "light"
     },
     "output_type": "display_data"
    }
   ],
   "source": [
    "provincia = 'LO'\n",
    "\n",
    "fig, ax = plt.subplots()\n",
    "\n",
    "x = np.arange(17)\n",
    "px = np.arange(18)\n",
    "dd = 1\n",
    "\n",
    "dfp[dfp.sigla_provincia == provincia].reset_index().reset_index().plot.scatter(x='level_0',y='totale_casi', ax = ax, logy = True, title = 'Totale casi {} - 95% CL'.format(provincia), ylim=[10**2,1.5*10**3])\n",
    "\n",
    "popt, pcov = optimize.curve_fit(exponential, x[dd:], dfp[dfp.sigla_provincia == provincia].totale_casi[dd:])\n",
    "y0,tau = unc.correlated_values(popt, pcov)\n",
    "px = px[:18]\n",
    "py = y0*unp.exp(px/tau)\n",
    "nom = unp.nominal_values(py)\n",
    "std = unp.std_devs(py)\n",
    "\n",
    "ax.fill_between(px, nom + 1.96 * std, nom - 1.96 * std, alpha = 0.3, color = 'blue')\n",
    "\n",
    "label = r'$T_2=$'+str(round(popt[1]/np.log(2),1))+ r' d'\n",
    "ax.plot(px[:18],exponential(px[:18], *popt), ls = '--', label = label)\n",
    "\n",
    "#poptg, pcovg = optimize.curve_fit(gauss, x[:], dfp[dfp.sigla_provincia == provincia].totale_casi[:], p0=[1000,20,7])\n",
    "#ax.plot(px[:16],gauss(px[:16], *poptg), ls = '--', label = 'gauss', color = 'red')\n",
    "\n",
    "#ax.scatter(14, exponential(14, *popt), color = 'red')\n",
    "\n",
    "ax.set_xlabel('giorno')\n",
    "ax.legend()\n",
    "fig.savefig('plot/totale_casi_{}.png'.format(provincia), dpi = 300)"
   ]
  },
  {
   "cell_type": "code",
   "execution_count": 25,
   "metadata": {},
   "outputs": [],
   "source": [
    "dfp[dfp.sigla_provincia == provincia].to_csv('filename.csv')"
   ]
  },
  {
   "cell_type": "markdown",
   "metadata": {},
   "source": [
    "## Analisi Province"
   ]
  },
  {
   "cell_type": "code",
   "execution_count": 13,
   "metadata": {},
   "outputs": [],
   "source": [
    "province = np.unique(dfp[dfp.sigla_provincia != ''].sigla_provincia.values)"
   ]
  },
  {
   "cell_type": "code",
   "execution_count": 32,
   "metadata": {},
   "outputs": [
    {
     "data": {
      "text/html": [
       "<div>\n",
       "<style scoped>\n",
       "    .dataframe tbody tr th:only-of-type {\n",
       "        vertical-align: middle;\n",
       "    }\n",
       "\n",
       "    .dataframe tbody tr th {\n",
       "        vertical-align: top;\n",
       "    }\n",
       "\n",
       "    .dataframe thead th {\n",
       "        text-align: right;\n",
       "    }\n",
       "</style>\n",
       "<table border=\"1\" class=\"dataframe\">\n",
       "  <thead>\n",
       "    <tr style=\"text-align: right;\">\n",
       "      <th></th>\n",
       "      <th>codice_provincia</th>\n",
       "      <th>codice_regione</th>\n",
       "      <th>data</th>\n",
       "      <th>denominazione_provincia</th>\n",
       "      <th>denominazione_regione</th>\n",
       "      <th>lat</th>\n",
       "      <th>long</th>\n",
       "      <th>sigla_provincia</th>\n",
       "      <th>stato</th>\n",
       "      <th>totale_casi</th>\n",
       "      <th>std</th>\n",
       "    </tr>\n",
       "  </thead>\n",
       "  <tbody>\n",
       "    <tr>\n",
       "      <th>2048</th>\n",
       "      <td>69</td>\n",
       "      <td>13</td>\n",
       "      <td>2020-03-12 17:00:00</td>\n",
       "      <td>Chieti</td>\n",
       "      <td>Abruzzo</td>\n",
       "      <td>42.351032</td>\n",
       "      <td>14.167546</td>\n",
       "      <td>CH</td>\n",
       "      <td>ITA</td>\n",
       "      <td>9.0</td>\n",
       "      <td>0.0</td>\n",
       "    </tr>\n",
       "    <tr>\n",
       "      <th>2049</th>\n",
       "      <td>66</td>\n",
       "      <td>13</td>\n",
       "      <td>2020-03-12 17:00:00</td>\n",
       "      <td>L'Aquila</td>\n",
       "      <td>Abruzzo</td>\n",
       "      <td>42.351222</td>\n",
       "      <td>13.398438</td>\n",
       "      <td>AQ</td>\n",
       "      <td>ITA</td>\n",
       "      <td>6.0</td>\n",
       "      <td>0.0</td>\n",
       "    </tr>\n",
       "    <tr>\n",
       "      <th>2050</th>\n",
       "      <td>68</td>\n",
       "      <td>13</td>\n",
       "      <td>2020-03-12 17:00:00</td>\n",
       "      <td>Pescara</td>\n",
       "      <td>Abruzzo</td>\n",
       "      <td>42.464584</td>\n",
       "      <td>14.213648</td>\n",
       "      <td>PE</td>\n",
       "      <td>ITA</td>\n",
       "      <td>18.0</td>\n",
       "      <td>0.0</td>\n",
       "    </tr>\n",
       "    <tr>\n",
       "      <th>2051</th>\n",
       "      <td>67</td>\n",
       "      <td>13</td>\n",
       "      <td>2020-03-12 17:00:00</td>\n",
       "      <td>Teramo</td>\n",
       "      <td>Abruzzo</td>\n",
       "      <td>42.658918</td>\n",
       "      <td>13.704400</td>\n",
       "      <td>TE</td>\n",
       "      <td>ITA</td>\n",
       "      <td>5.0</td>\n",
       "      <td>0.0</td>\n",
       "    </tr>\n",
       "    <tr>\n",
       "      <th>2053</th>\n",
       "      <td>77</td>\n",
       "      <td>17</td>\n",
       "      <td>2020-03-12 17:00:00</td>\n",
       "      <td>Matera</td>\n",
       "      <td>Basilicata</td>\n",
       "      <td>40.667512</td>\n",
       "      <td>16.597924</td>\n",
       "      <td>MT</td>\n",
       "      <td>ITA</td>\n",
       "      <td>3.0</td>\n",
       "      <td>0.0</td>\n",
       "    </tr>\n",
       "  </tbody>\n",
       "</table>\n",
       "</div>"
      ],
      "text/plain": [
       "      codice_provincia  codice_regione                data  \\\n",
       "2048                69              13 2020-03-12 17:00:00   \n",
       "2049                66              13 2020-03-12 17:00:00   \n",
       "2050                68              13 2020-03-12 17:00:00   \n",
       "2051                67              13 2020-03-12 17:00:00   \n",
       "2053                77              17 2020-03-12 17:00:00   \n",
       "\n",
       "     denominazione_provincia denominazione_regione        lat       long  \\\n",
       "2048                  Chieti               Abruzzo  42.351032  14.167546   \n",
       "2049                L'Aquila               Abruzzo  42.351222  13.398438   \n",
       "2050                 Pescara               Abruzzo  42.464584  14.213648   \n",
       "2051                  Teramo               Abruzzo  42.658918  13.704400   \n",
       "2053                  Matera            Basilicata  40.667512  16.597924   \n",
       "\n",
       "     sigla_provincia stato  totale_casi  std  \n",
       "2048              CH   ITA          9.0  0.0  \n",
       "2049              AQ   ITA          6.0  0.0  \n",
       "2050              PE   ITA         18.0  0.0  \n",
       "2051              TE   ITA          5.0  0.0  \n",
       "2053              MT   ITA          3.0  0.0  "
      ]
     },
     "execution_count": 32,
     "metadata": {},
     "output_type": "execute_result"
    }
   ],
   "source": [
    "dfp['data'] = pd.to_datetime(dfp['data'])\n",
    "time = max(dfp.loc[:,'data'].values) + np.timedelta64(1,'D')\n",
    "\n",
    "df_forecast = dfp[(dfp.data == max(dfp.data.values)) & (dfp.sigla_provincia != '')]\n",
    "df_forecast.loc[:,'data'] = time\n",
    "sLength = len(df_forecast['data'])\n",
    "df_forecast = df_forecast.assign(std = np.zeros(sLength))\n",
    "df_forecast.head()"
   ]
  },
  {
   "cell_type": "code",
   "execution_count": 75,
   "metadata": {},
   "outputs": [
    {
     "name": "stdout",
     "output_type": "stream",
     "text": [
      "<class 'numpy.int64'>\n"
     ]
    }
   ],
   "source": [
    "for pr in province:\n",
    "    df_temp = dfp[dfp.sigla_provincia == pr]\n",
    "    #df_temp.loc[:,'data'] = pd.to_datetime(df_temp.loc[:,'data'])\n",
    "    df_temp.loc[:,'data'] = df_temp.loc[:,'data'].apply(lambda x: x.dayofyear)\n",
    "    #df_temp.loc[:,'data'].apply(lambda x: x.dayofyear)\n",
    "    \n",
    "    try:\n",
    "        x = df_temp[df_temp.totale_casi > 0].data.values - min(df_temp[df_temp.totale_casi > 0].data.values)\n",
    "        #x = df_temp[df_temp.totale_casi > 0].giorno.values\n",
    "        if pr == 'BG':\n",
    "            print(type(x[0]))\n",
    "        #x -= min(x)\n",
    "        y = df_temp[df_temp.totale_casi > 0].totale_casi.values\n",
    "        popt, pcov = optimize.curve_fit(exponential, x, y)\n",
    "\n",
    "        y0,tau = unc.correlated_values(popt, pcov)\n",
    "        py = y0*unp.exp((max(x)+1)/tau)\n",
    "\n",
    "        nom = py.nominal_value\n",
    "        std_new = py.std_dev\n",
    "    except:\n",
    "        nom = 0\n",
    "        std_new = 0\n",
    "    \n",
    "    df_forecast.loc[df_forecast.sigla_provincia == pr,['totale_casi','std']] = nom, std_new\n",
    "    \n",
    "    "
   ]
  },
  {
   "cell_type": "code",
<<<<<<< HEAD
   "execution_count": 346,
   "metadata": {},
   "outputs": [
    {
     "data": {
      "text/plain": [
       "15730.647521950674"
      ]
     },
     "execution_count": 346,
     "metadata": {},
     "output_type": "execute_result"
    }
   ],
   "source": [
    "df_forecast.totale_casi.sum()"
   ]
  },
  {
   "cell_type": "code",
   "execution_count": 345,
=======
   "execution_count": 78,
>>>>>>> 6234543e3e2c290b4390614484b76dbf6313a450
   "metadata": {},
   "outputs": [],
   "source": [
    "df_forecast.to_csv('forecast_province_2020.03.13.csv')"
   ]
  },
  {
   "cell_type": "markdown",
   "metadata": {},
   "source": [
    "### Plot Lombardia"
   ]
  },
  {
   "cell_type": "code",
   "execution_count": 80,
   "metadata": {},
   "outputs": [
    {
     "data": {
      "image/png": "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\n",
      "text/plain": [
       "<Figure size 432x288 with 12 Axes>"
      ]
     },
     "metadata": {
      "needs_background": "light"
     },
     "output_type": "display_data"
    }
   ],
   "source": [
    "fig, axes = fig, axes = plt.subplots(nrows=4, ncols=3, constrained_layout=True)"
   ]
  },
  {
   "cell_type": "code",
   "execution_count": null,
   "metadata": {},
   "outputs": [],
   "source": []
  }
 ],
 "metadata": {
  "kernelspec": {
   "display_name": "Python 3",
   "language": "python",
   "name": "python3"
  },
  "language_info": {
   "codemirror_mode": {
    "name": "ipython",
    "version": 3
   },
   "file_extension": ".py",
   "mimetype": "text/x-python",
   "name": "python",
   "nbconvert_exporter": "python",
   "pygments_lexer": "ipython3",
   "version": "3.7.1"
  },
  "toc": {
   "base_numbering": 1,
   "nav_menu": {},
   "number_sections": true,
   "sideBar": true,
   "skip_h1_title": false,
   "title_cell": "Table of Contents",
   "title_sidebar": "Contents",
   "toc_cell": false,
   "toc_position": {},
   "toc_section_display": true,
   "toc_window_display": false
  }
 },
 "nbformat": 4,
 "nbformat_minor": 4
}
