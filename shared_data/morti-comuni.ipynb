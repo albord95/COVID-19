{
 "cells": [
  {
   "cell_type": "markdown",
   "metadata": {},
   "source": [
    "### Create two empty folders (\"html-tables\" and \"csv-tables\") before running this script"
   ]
  },
  {
   "cell_type": "code",
   "execution_count": 1,
   "metadata": {},
   "outputs": [],
   "source": [
    "import urllib\n",
    "import numpy as np\n",
    "import tqdm\n",
    "from bs4 import BeautifulSoup\n",
    "import csv\n",
    "import codecs\n",
    "import pandas as pd"
   ]
  },
  {
   "cell_type": "markdown",
   "metadata": {},
   "source": [
    "# Web scraping from demo.istat.it"
   ]
  },
  {
   "cell_type": "code",
   "execution_count": 2,
   "metadata": {
    "scrolled": false
   },
   "outputs": [
    {
     "name": "stderr",
     "output_type": "stream",
     "text": [
      "100%|████████████████████████████████████████████████████████████████████████████████████| 3/3 [01:52<00:00, 38.00s/it]\n"
     ]
    }
   ],
   "source": [
    "# From demo.istat.it > Bilancio Demografico Mensile > Vista TERRITORIALE\n",
    "# Downloads html pages with demographic tables, year 2011 post censimento, it takes 2 minutes\n",
    "# Ceate an empty folder \"html-tables\" before running this block\n",
    "for month in tqdm.tqdm(range(10, 13)):\n",
    "    for p in range(120):\n",
    "        url = f'http://demo.istat.it/bilmens20111009/query1.php?lingua=ita&Pro={p}&allrp=4&periodo={month}&submit=Tavola'\n",
    "        page = urllib.request.urlopen(url)\n",
    "        written = page.read()\n",
    "        with open(f'html-tables/2011-{month:02d}-{p:03d}.html', 'wb') as file:\n",
    "            file.write(written)"
   ]
  },
  {
   "cell_type": "code",
   "execution_count": 3,
   "metadata": {},
   "outputs": [
    {
     "name": "stderr",
     "output_type": "stream",
     "text": [
      "100%|███████████████████████████████████████████████████████████████████████████████████| 8/8 [41:26<00:00, 274.82s/it]\n"
     ]
    }
   ],
   "source": [
    "# Downloads html pages with demographic tables, years 2012-2019, it takes roughly one hour\n",
    "for year in tqdm.tqdm(range(2012, 2020)):\n",
    "    for month in range(1, 13):\n",
    "        for p in range(120):\n",
    "            url = f'http://demo.istat.it/bilmens{year}gen/query1.php?lingua=ita&Pro={p}&allrp=4&periodo={month}&submit=Tavola'\n",
    "            page = urllib.request.urlopen(url)\n",
    "            written = page.read()\n",
    "            with open(f'html-tables/{year}-{month:02d}-{p:03d}.html', 'wb') as file:\n",
    "                file.write(written)"
   ]
  },
  {
   "cell_type": "markdown",
   "metadata": {},
   "source": [
    "# html to csv"
   ]
  },
  {
   "cell_type": "code",
   "execution_count": 4,
   "metadata": {
    "scrolled": false
   },
   "outputs": [],
   "source": [
    "def html2csv(html_path, csv_path):\n",
    "    try:\n",
    "        f = codecs.open(html_path, 'r')\n",
    "        data = f.read()\n",
    "        soup = BeautifulSoup(data)\n",
    "        tables = soup.find_all(\"table\")\n",
    "    except:\n",
    "        return 2\n",
    "\n",
    "    if len(tables) < 2:\n",
    "        return 1\n",
    "    else:\n",
    "        table = tables[1] # only the second table is relevant\n",
    "        output_rows = []\n",
    "        for table_row in table.findAll('tr'):\n",
    "            columns = table_row.findAll('td')\n",
    "            output_row = []\n",
    "            for column in columns:\n",
    "                output_row.append(column.text)\n",
    "            output_rows.append(output_row)\n",
    "\n",
    "        with open(csv_path, 'a') as f:\n",
    "            writer = csv.writer(f)\n",
    "            writer.writerows(output_rows)\n",
    "\n",
    "        return 0"
   ]
  },
  {
   "cell_type": "code",
   "execution_count": 5,
   "metadata": {},
   "outputs": [
    {
     "name": "stderr",
     "output_type": "stream",
     "text": [
      "100%|███████████████████████████████████████████████████████████████████████████████████| 9/9 [24:13<00:00, 167.43s/it]\n"
     ]
    }
   ],
   "source": [
    "# Converts html pages in csv tables, it takes 20 minutes\n",
    "# Create an empty folder \"csv-tables\" before running this block\n",
    "for year in tqdm.tqdm(range(2011, 2020)):\n",
    "    for month in range(1, 13):\n",
    "        for p in range(120):\n",
    "            name = f'{year}-{month:02d}-{p:03d}'\n",
    "            html_path = f'html-tables/{name}.html'\n",
    "            csv_path = f'csv-tables/{name}.csv'\n",
    "            result = html2csv(html_path, csv_path)"
   ]
  },
  {
   "cell_type": "markdown",
   "metadata": {},
   "source": [
    "# csv big merge"
   ]
  },
  {
   "cell_type": "code",
   "execution_count": 6,
   "metadata": {},
   "outputs": [],
   "source": [
    "def extract_deaths_comuni(csv_path, year_month):\n",
    "    state = 'T'\n",
    "    i = 0\n",
    "    comuni = []\n",
    "    try:\n",
    "        with open(csv_path) as f:\n",
    "            reader = csv.reader(f)\n",
    "            for row in reader:\n",
    "                if len(row) > 0:\n",
    "                    if row[0] == 'Totale':\n",
    "                        state = 'T'\n",
    "                    if row[0] == 'Maschi':\n",
    "                        state = 'M'\n",
    "                        i = 0\n",
    "                    if row[0] == 'Femmine':\n",
    "                        state = 'F'\n",
    "                        i = 0\n",
    "                    if row[0].isdigit():\n",
    "                        if state == 'T':\n",
    "                            comuni.append([row[0], row[1], year_month, row[4]])\n",
    "                        if state == 'M' or state == 'F':\n",
    "                            comuni[i].append(row[4])\n",
    "                            i += 1\n",
    "    except FileNotFoundError:\n",
    "        pass\n",
    "    return comuni"
   ]
  },
  {
   "cell_type": "code",
   "execution_count": 7,
   "metadata": {},
   "outputs": [
    {
     "name": "stderr",
     "output_type": "stream",
     "text": [
      "100%|████████████████████████████████████████████████████████████████████████████████████| 9/9 [00:28<00:00,  2.62s/it]\n"
     ]
    }
   ],
   "source": [
    "# Creates a list of lists, extracting relevant data from csv-tables folder files and merging them\n",
    "comunilist = []\n",
    "for year in tqdm.tqdm(range(2011, 2020)):\n",
    "    for month in range(1,13):\n",
    "        for p in range(120):\n",
    "            year_month = f'{year}-{month:02d}'\n",
    "            csv_path = f'csv-tables/{year_month}-{p:03d}.csv'\n",
    "            comunilist += extract_deaths_comuni(csv_path, year_month)"
   ]
  },
  {
   "cell_type": "code",
   "execution_count": 8,
   "metadata": {},
   "outputs": [
    {
     "data": {
      "text/html": [
       "<div>\n",
       "<style scoped>\n",
       "    .dataframe tbody tr th:only-of-type {\n",
       "        vertical-align: middle;\n",
       "    }\n",
       "\n",
       "    .dataframe tbody tr th {\n",
       "        vertical-align: top;\n",
       "    }\n",
       "\n",
       "    .dataframe thead th {\n",
       "        text-align: right;\n",
       "    }\n",
       "</style>\n",
       "<table border=\"1\" class=\"dataframe\">\n",
       "  <thead>\n",
       "    <tr style=\"text-align: right;\">\n",
       "      <th></th>\n",
       "      <th>Codice Comune</th>\n",
       "      <th>Comuni</th>\n",
       "      <th>Mese</th>\n",
       "      <th>Morti</th>\n",
       "      <th>Maschi</th>\n",
       "      <th>Femmine</th>\n",
       "    </tr>\n",
       "  </thead>\n",
       "  <tbody>\n",
       "    <tr>\n",
       "      <th>0</th>\n",
       "      <td>001001</td>\n",
       "      <td>AgliÃ¨</td>\n",
       "      <td>2011-10</td>\n",
       "      <td>6</td>\n",
       "      <td>2</td>\n",
       "      <td>4</td>\n",
       "    </tr>\n",
       "    <tr>\n",
       "      <th>1</th>\n",
       "      <td>001002</td>\n",
       "      <td>Airasca</td>\n",
       "      <td>2011-10</td>\n",
       "      <td>4</td>\n",
       "      <td>2</td>\n",
       "      <td>2</td>\n",
       "    </tr>\n",
       "    <tr>\n",
       "      <th>2</th>\n",
       "      <td>001003</td>\n",
       "      <td>Ala di Stura</td>\n",
       "      <td>2011-10</td>\n",
       "      <td>1</td>\n",
       "      <td>1</td>\n",
       "      <td>0</td>\n",
       "    </tr>\n",
       "    <tr>\n",
       "      <th>3</th>\n",
       "      <td>001004</td>\n",
       "      <td>Albiano d'Ivrea</td>\n",
       "      <td>2011-10</td>\n",
       "      <td>2</td>\n",
       "      <td>2</td>\n",
       "      <td>0</td>\n",
       "    </tr>\n",
       "    <tr>\n",
       "      <th>4</th>\n",
       "      <td>001005</td>\n",
       "      <td>Alice Superiore</td>\n",
       "      <td>2011-10</td>\n",
       "      <td>2</td>\n",
       "      <td>1</td>\n",
       "      <td>1</td>\n",
       "    </tr>\n",
       "  </tbody>\n",
       "</table>\n",
       "</div>"
      ],
      "text/plain": [
       "  Codice Comune           Comuni     Mese Morti Maschi Femmine\n",
       "0        001001           AgliÃ¨  2011-10     6      2       4\n",
       "1        001002          Airasca  2011-10     4      2       2\n",
       "2        001003     Ala di Stura  2011-10     1      1       0\n",
       "3        001004  Albiano d'Ivrea  2011-10     2      2       0\n",
       "4        001005  Alice Superiore  2011-10     2      1       1"
      ]
     },
     "execution_count": 8,
     "metadata": {},
     "output_type": "execute_result"
    }
   ],
   "source": [
    "df_comuni = pd.DataFrame(comunilist, columns=['Codice Comune', 'Comuni', 'Mese', 'Morti', 'Maschi', 'Femmine'])\n",
    "df_comuni.head()"
   ]
  },
  {
   "cell_type": "code",
   "execution_count": 9,
   "metadata": {},
   "outputs": [],
   "source": [
    "df_comuni.to_csv('morti_comuni_da_2011-10-09_a_2019-11.csv', index=False)"
   ]
  },
  {
   "cell_type": "code",
   "execution_count": null,
   "metadata": {},
   "outputs": [],
   "source": []
  }
 ],
 "metadata": {
  "kernelspec": {
   "display_name": "Python 3",
   "language": "python",
   "name": "python3"
  },
  "language_info": {
   "codemirror_mode": {
    "name": "ipython",
    "version": 3
   },
   "file_extension": ".py",
   "mimetype": "text/x-python",
   "name": "python",
   "nbconvert_exporter": "python",
   "pygments_lexer": "ipython3",
   "version": "3.7.1"
  },
  "toc": {
   "base_numbering": 1,
   "nav_menu": {},
   "number_sections": true,
   "sideBar": true,
   "skip_h1_title": false,
   "title_cell": "Table of Contents",
   "title_sidebar": "Contents",
   "toc_cell": false,
   "toc_position": {},
   "toc_section_display": true,
   "toc_window_display": false
  }
 },
 "nbformat": 4,
 "nbformat_minor": 2
}
